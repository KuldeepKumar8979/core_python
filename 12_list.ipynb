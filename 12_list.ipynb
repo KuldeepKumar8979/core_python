{
 "cells": [
  {
   "cell_type": "markdown",
   "id": "721d29d5",
   "metadata": {},
   "source": [
    "# list:   \n",
    "list is a ordered collection of multiple datatype which can be a same type or different type \n",
    "  \n",
    "Note: ``list is a mutable datatype that means changes are allowed in list``"
   ]
  },
  {
   "cell_type": "markdown",
   "id": "8d6e0602",
   "metadata": {},
   "source": [
    "## how list to be created ?"
   ]
  },
  {
   "cell_type": "code",
   "execution_count": 1,
   "id": "ce8a06e2",
   "metadata": {},
   "outputs": [
    {
     "name": "stdout",
     "output_type": "stream",
     "text": [
      "<class 'list'>\n",
      "[12, 13, 14, 15]\n"
     ]
    }
   ],
   "source": [
    "l=[12,13,14,15]    # this is homogenous list \n",
    "\n",
    "print(type(l))\n",
    "print(l) "
   ]
  },
  {
   "cell_type": "code",
   "execution_count": 2,
   "id": "b73b64d8",
   "metadata": {},
   "outputs": [
    {
     "name": "stdout",
     "output_type": "stream",
     "text": [
      "<class 'list'> [1, 2, 3, 4, 'hi', 3.1, True]\n"
     ]
    }
   ],
   "source": [
    "l=[1,2,3,4,'hi',3.1,True]    # this is heterogenous list\n",
    "\n",
    "print(type(l),l)"
   ]
  },
  {
   "cell_type": "markdown",
   "id": "f747f545",
   "metadata": {},
   "source": [
    "# empty list"
   ]
  },
  {
   "cell_type": "code",
   "execution_count": 13,
   "id": "6d638dc0",
   "metadata": {},
   "outputs": [
    {
     "name": "stdout",
     "output_type": "stream",
     "text": [
      "<class 'list'> []\n",
      "[]\n"
     ]
    }
   ],
   "source": [
    "l=[]\n",
    "\n",
    "print(type(l),l)\n",
    "print(l)"
   ]
  },
  {
   "cell_type": "code",
   "execution_count": 3,
   "id": "5c6c98f9",
   "metadata": {},
   "outputs": [
    {
     "name": "stdout",
     "output_type": "stream",
     "text": [
      "<class 'list'>\n",
      "[]\n"
     ]
    }
   ],
   "source": [
    "l=list()\n",
    "print(type(l))\n",
    "print(l)"
   ]
  },
  {
   "cell_type": "markdown",
   "id": "aff4db29",
   "metadata": {},
   "source": [
    "# create the`list from list contractor`"
   ]
  },
  {
   "cell_type": "code",
   "execution_count": 4,
   "id": "912e5dc7",
   "metadata": {
    "scrolled": true
   },
   "outputs": [
    {
     "data": {
      "text/plain": [
       "list['kuldeep']"
      ]
     },
     "execution_count": 4,
     "metadata": {},
     "output_type": "execute_result"
    }
   ],
   "source": [
    "l=list['kuldeep']\n",
    "l"
   ]
  },
  {
   "cell_type": "code",
   "execution_count": 5,
   "id": "736dae72",
   "metadata": {},
   "outputs": [
    {
     "name": "stdout",
     "output_type": "stream",
     "text": [
      "['k', 'u', 'l', 'd', 'e', 'e', 'p']\n"
     ]
    }
   ],
   "source": [
    "l=list('kuldeep')\n",
    "print(l)"
   ]
  },
  {
   "cell_type": "code",
   "execution_count": 6,
   "id": "d8b3a6cb",
   "metadata": {},
   "outputs": [
    {
     "data": {
      "text/plain": [
       "['php', 'C', 'C++', 'python']"
      ]
     },
     "execution_count": 6,
     "metadata": {},
     "output_type": "execute_result"
    }
   ],
   "source": [
    "l=list({'python','C++','C','php'})\n",
    "l"
   ]
  },
  {
   "cell_type": "code",
   "execution_count": 27,
   "id": "121726fc",
   "metadata": {},
   "outputs": [
    {
     "data": {
      "text/plain": [
       "['python', 'program']"
      ]
     },
     "execution_count": 27,
     "metadata": {},
     "output_type": "execute_result"
    }
   ],
   "source": [
    "l=list(['python','program'])\n",
    "l"
   ]
  },
  {
   "cell_type": "markdown",
   "id": "9cedc5b6",
   "metadata": {},
   "source": [
    "# nested list"
   ]
  },
  {
   "cell_type": "code",
   "execution_count": 30,
   "id": "25cd5d33",
   "metadata": {},
   "outputs": [
    {
     "data": {
      "text/plain": [
       "['happy', 'sad', ['sleepy', 'angry'], 'cry']"
      ]
     },
     "execution_count": 30,
     "metadata": {},
     "output_type": "execute_result"
    }
   ],
   "source": [
    "l=['happy','sad',['sleepy','angry'],'cry']\n",
    "\n",
    "l"
   ]
  },
  {
   "cell_type": "code",
   "execution_count": 31,
   "id": "64782953",
   "metadata": {},
   "outputs": [
    {
     "data": {
      "text/plain": [
       "[1, [2, 3], 4, 5, [6, 7, 8, 9, 10], 11, 12, 13]"
      ]
     },
     "execution_count": 31,
     "metadata": {},
     "output_type": "execute_result"
    }
   ],
   "source": [
    "l=[1,[2,3],4,5,[6,7,8,9,10],11,12,13]\n",
    "\n",
    "l"
   ]
  },
  {
   "cell_type": "markdown",
   "id": "3cc57b4d",
   "metadata": {},
   "source": [
    "# ``indexing and slicing``"
   ]
  },
  {
   "attachments": {
    "positive_and_negative_indices_of_strings.png": {
     "image/png": "[encoded data removed]"
    }
   },
   "cell_type": "markdown",
   "id": "988efadb",
   "metadata": {},
   "source": [
    "##### ![positive_and_negative_indices_of_strings.png](attachment:positive_and_negative_indices_of_strings.png)"
   ]
  },
  {
   "cell_type": "markdown",
   "id": "c0b04558",
   "metadata": {},
   "source": [
    "# indexing"
   ]
  },
  {
   "cell_type": "code",
   "execution_count": 6,
   "id": "941ee054",
   "metadata": {},
   "outputs": [],
   "source": [
    "#    -4     -3        -2      -1\n",
    "l=['apple','mango','cherry','chiku']\n",
    "#   0         1        2       3"
   ]
  },
  {
   "cell_type": "code",
   "execution_count": 7,
   "id": "3c7c136f",
   "metadata": {},
   "outputs": [
    {
     "data": {
      "text/plain": [
       "'apple'"
      ]
     },
     "execution_count": 7,
     "metadata": {},
     "output_type": "execute_result"
    }
   ],
   "source": [
    "l[0]"
   ]
  },
  {
   "cell_type": "code",
   "execution_count": 3,
   "id": "cfc072fd",
   "metadata": {},
   "outputs": [
    {
     "data": {
      "text/plain": [
       "'mango'"
      ]
     },
     "execution_count": 3,
     "metadata": {},
     "output_type": "execute_result"
    }
   ],
   "source": [
    "l[1]"
   ]
  },
  {
   "cell_type": "code",
   "execution_count": 4,
   "id": "5fcc7d15",
   "metadata": {},
   "outputs": [
    {
     "data": {
      "text/plain": [
       "'chiku'"
      ]
     },
     "execution_count": 4,
     "metadata": {},
     "output_type": "execute_result"
    }
   ],
   "source": [
    "l[-1]"
   ]
  },
  {
   "cell_type": "code",
   "execution_count": 5,
   "id": "31a12fe7",
   "metadata": {},
   "outputs": [
    {
     "data": {
      "text/plain": [
       "'mango'"
      ]
     },
     "execution_count": 5,
     "metadata": {},
     "output_type": "execute_result"
    }
   ],
   "source": [
    "l[-3]"
   ]
  },
  {
   "cell_type": "markdown",
   "id": "5e9608db",
   "metadata": {},
   "source": [
    "# slicing\n",
    "(start,end,stepsize)"
   ]
  },
  {
   "cell_type": "code",
   "execution_count": 7,
   "id": "647f6791",
   "metadata": {},
   "outputs": [],
   "source": [
    "#    -4     -3        -2      -1\n",
    "l=['apple','mango','cherry','chiku']\n",
    "#   0         1        2       3"
   ]
  },
  {
   "cell_type": "code",
   "execution_count": 8,
   "id": "7acbea9e",
   "metadata": {
    "scrolled": true
   },
   "outputs": [
    {
     "data": {
      "text/plain": [
       "['apple', 'mango', 'cherry', 'chiku']"
      ]
     },
     "execution_count": 8,
     "metadata": {},
     "output_type": "execute_result"
    }
   ],
   "source": [
    "l[0:4]"
   ]
  },
  {
   "cell_type": "code",
   "execution_count": 9,
   "id": "bc5b4d9c",
   "metadata": {},
   "outputs": [
    {
     "data": {
      "text/plain": [
       "['apple', 'cherry']"
      ]
     },
     "execution_count": 9,
     "metadata": {},
     "output_type": "execute_result"
    }
   ],
   "source": [
    "l[0:5:2]"
   ]
  },
  {
   "cell_type": "code",
   "execution_count": 10,
   "id": "57c469f9",
   "metadata": {},
   "outputs": [
    {
     "data": {
      "text/plain": [
       "['apple', 'mango', 'cherry', 'chiku']"
      ]
     },
     "execution_count": 10,
     "metadata": {},
     "output_type": "execute_result"
    }
   ],
   "source": [
    "l[-4::]"
   ]
  },
  {
   "cell_type": "code",
   "execution_count": 11,
   "id": "a65fcec9",
   "metadata": {},
   "outputs": [
    {
     "data": {
      "text/plain": [
       "[]"
      ]
     },
     "execution_count": 11,
     "metadata": {},
     "output_type": "execute_result"
    }
   ],
   "source": [
    "l[-3:-4:]"
   ]
  },
  {
   "cell_type": "code",
   "execution_count": 12,
   "id": "14a0d988",
   "metadata": {},
   "outputs": [
    {
     "data": {
      "text/plain": [
       "['mango']"
      ]
     },
     "execution_count": 12,
     "metadata": {},
     "output_type": "execute_result"
    }
   ],
   "source": [
    "l[-3:-4:-1]"
   ]
  },
  {
   "cell_type": "code",
   "execution_count": 13,
   "id": "56b82aa5",
   "metadata": {},
   "outputs": [
    {
     "data": {
      "text/plain": [
       "['chiku', 'cherry', 'mango', 'apple']"
      ]
     },
     "execution_count": 13,
     "metadata": {},
     "output_type": "execute_result"
    }
   ],
   "source": [
    "l[-1::-1]"
   ]
  },
  {
   "cell_type": "code",
   "execution_count": 14,
   "id": "7f0dbb54",
   "metadata": {},
   "outputs": [
    {
     "data": {
      "text/plain": [
       "['apple', 'cherry']"
      ]
     },
     "execution_count": 14,
     "metadata": {},
     "output_type": "execute_result"
    }
   ],
   "source": [
    "l[0:3:2]"
   ]
  },
  {
   "cell_type": "code",
   "execution_count": 15,
   "id": "55ac14d1",
   "metadata": {},
   "outputs": [
    {
     "data": {
      "text/plain": [
       "['chiku']"
      ]
     },
     "execution_count": 15,
     "metadata": {},
     "output_type": "execute_result"
    }
   ],
   "source": [
    "l[-1:-2:-2]"
   ]
  },
  {
   "cell_type": "code",
   "execution_count": 16,
   "id": "ab8b9bc9",
   "metadata": {},
   "outputs": [
    {
     "data": {
      "text/plain": [
       "'ciu'"
      ]
     },
     "execution_count": 16,
     "metadata": {},
     "output_type": "execute_result"
    }
   ],
   "source": [
    "l[-1][::2]"
   ]
  },
  {
   "cell_type": "code",
   "execution_count": 85,
   "id": "2ab1a26c",
   "metadata": {},
   "outputs": [
    {
     "data": {
      "text/plain": [
       "'ape'"
      ]
     },
     "execution_count": 85,
     "metadata": {},
     "output_type": "execute_result"
    }
   ],
   "source": [
    "l[0][0::2]"
   ]
  },
  {
   "cell_type": "code",
   "execution_count": 86,
   "id": "6c61707f",
   "metadata": {},
   "outputs": [],
   "source": [
    "l=[['apple','mango','cherry','blueberry','muskmelon'],'salad','rece',['potato','brinjal','tomato']]"
   ]
  },
  {
   "cell_type": "markdown",
   "id": "3b922175",
   "metadata": {},
   "source": [
    "### task1: mangom, muskmelon in the list or inidividual\n",
    "### task2: fetch salad\n",
    "### task3: return the elements from 2 to 3\n",
    "### task4: fetch the last vegetable of the list\n",
    "### task5: fetch the middle element of the first vegetable \n",
    "### task6: fetch the reverse of last fruit "
   ]
  },
  {
   "cell_type": "code",
   "execution_count": 90,
   "id": "174ff32b",
   "metadata": {},
   "outputs": [
    {
     "name": "stdout",
     "output_type": "stream",
     "text": [
      "mango\n",
      "muskmelon\n"
     ]
    },
    {
     "data": {
      "text/plain": [
       "['mango', 'muskmelon']"
      ]
     },
     "execution_count": 90,
     "metadata": {},
     "output_type": "execute_result"
    }
   ],
   "source": [
    "# task1: mangom, muskmelon in the list or inidividual\n",
    "\n",
    "print(l[0][1])\n",
    "print(l[0][-1])\n",
    "\n",
    "l[0][1:5:3]"
   ]
  },
  {
   "cell_type": "code",
   "execution_count": 91,
   "id": "38f0e3e3",
   "metadata": {},
   "outputs": [
    {
     "data": {
      "text/plain": [
       "'salad'"
      ]
     },
     "execution_count": 91,
     "metadata": {},
     "output_type": "execute_result"
    }
   ],
   "source": [
    "# task2: fetch salad\n",
    "\n",
    "l[1]"
   ]
  },
  {
   "cell_type": "code",
   "execution_count": 92,
   "id": "9e93bcd7",
   "metadata": {},
   "outputs": [
    {
     "data": {
      "text/plain": [
       "['rece']"
      ]
     },
     "execution_count": 92,
     "metadata": {},
     "output_type": "execute_result"
    }
   ],
   "source": [
    "# task3: return the elements from 2 to 3\n",
    "\n",
    "l[2:3]"
   ]
  },
  {
   "cell_type": "code",
   "execution_count": 93,
   "id": "2311cd58",
   "metadata": {},
   "outputs": [
    {
     "data": {
      "text/plain": [
       "'tomato'"
      ]
     },
     "execution_count": 93,
     "metadata": {},
     "output_type": "execute_result"
    }
   ],
   "source": [
    "# task4: fetch the last vegetable of the list\n",
    "\n",
    "l[-1][-1]"
   ]
  },
  {
   "cell_type": "code",
   "execution_count": 94,
   "id": "50235f41",
   "metadata": {},
   "outputs": [
    {
     "data": {
      "text/plain": [
       "'t'"
      ]
     },
     "execution_count": 94,
     "metadata": {},
     "output_type": "execute_result"
    }
   ],
   "source": [
    "# task5: fetch the middle element of the first vegetable\n",
    "l[-1][0][2]"
   ]
  },
  {
   "cell_type": "code",
   "execution_count": 95,
   "id": "0d338a3b",
   "metadata": {},
   "outputs": [
    {
     "data": {
      "text/plain": [
       "'nolemksum'"
      ]
     },
     "execution_count": 95,
     "metadata": {},
     "output_type": "execute_result"
    }
   ],
   "source": [
    "# task6: fetch the reverse of last fruit\n",
    "l[0][-1][-1::-1]"
   ]
  },
  {
   "cell_type": "markdown",
   "id": "0058a819",
   "metadata": {},
   "source": [
    "# list property: mutable: changes are allowed in the list"
   ]
  },
  {
   "cell_type": "code",
   "execution_count": 8,
   "id": "ba168b54",
   "metadata": {},
   "outputs": [
    {
     "name": "stdout",
     "output_type": "stream",
     "text": [
      "2221765346240\n",
      "[12, 13, 14, 15]\n",
      "\n",
      "after uptation\n",
      "\n",
      "2221765346240\n",
      "[12, 100, 14, 15]\n"
     ]
    }
   ],
   "source": [
    "l=[12,13,14,15]\n",
    "print(id(l))\n",
    "print(l,end='\\n\\n')\n",
    "print('after uptation\\n')\n",
    "l[1]=100\n",
    "print(id(l))\n",
    "print(l)"
   ]
  },
  {
   "cell_type": "markdown",
   "id": "e911af4c",
   "metadata": {},
   "source": [
    "# iteration on the list"
   ]
  },
  {
   "cell_type": "code",
   "execution_count": 9,
   "id": "096d34d3",
   "metadata": {},
   "outputs": [
    {
     "name": "stdout",
     "output_type": "stream",
     "text": [
      "12\n",
      "13\n",
      "14\n",
      "15\n"
     ]
    }
   ],
   "source": [
    "l=[12,13,14,15]\n",
    "\n",
    "for i in l:\n",
    "    print(i)"
   ]
  },
  {
   "cell_type": "markdown",
   "id": "5869b91a",
   "metadata": {},
   "source": [
    "# common functions those list supports\n",
    "- len()\n",
    "- sum()\n",
    "- max()\n",
    "- min()\n",
    "- sorted()"
   ]
  },
  {
   "cell_type": "markdown",
   "id": "0997494f",
   "metadata": {},
   "source": [
    "#### len()"
   ]
  },
  {
   "cell_type": "code",
   "execution_count": 11,
   "id": "92226298",
   "metadata": {},
   "outputs": [
    {
     "data": {
      "text/plain": [
       "7"
      ]
     },
     "execution_count": 11,
     "metadata": {},
     "output_type": "execute_result"
    }
   ],
   "source": [
    "l=[12,23,34,56,13,45,67]\n",
    "\n",
    "len(l)"
   ]
  },
  {
   "cell_type": "markdown",
   "id": "01585e64",
   "metadata": {},
   "source": [
    "#### min()"
   ]
  },
  {
   "cell_type": "code",
   "execution_count": 12,
   "id": "1ce5effe",
   "metadata": {},
   "outputs": [
    {
     "data": {
      "text/plain": [
       "12"
      ]
     },
     "execution_count": 12,
     "metadata": {},
     "output_type": "execute_result"
    }
   ],
   "source": [
    "l=[12,23,34,56,13,45,67]\n",
    "\n",
    "min(l)"
   ]
  },
  {
   "cell_type": "markdown",
   "id": "c07af898",
   "metadata": {},
   "source": [
    "#### max()"
   ]
  },
  {
   "cell_type": "code",
   "execution_count": 14,
   "id": "3cbe7af2",
   "metadata": {},
   "outputs": [
    {
     "data": {
      "text/plain": [
       "67"
      ]
     },
     "execution_count": 14,
     "metadata": {},
     "output_type": "execute_result"
    }
   ],
   "source": [
    "l=[12,23,34,56,13,45,67]\n",
    "\n",
    "max(l)"
   ]
  },
  {
   "cell_type": "markdown",
   "id": "0ae7c19a",
   "metadata": {},
   "source": [
    "#### sum()"
   ]
  },
  {
   "cell_type": "code",
   "execution_count": 13,
   "id": "93b0c79e",
   "metadata": {},
   "outputs": [
    {
     "data": {
      "text/plain": [
       "250"
      ]
     },
     "execution_count": 13,
     "metadata": {},
     "output_type": "execute_result"
    }
   ],
   "source": [
    "l=[12,23,34,56,13,45,67]\n",
    "\n",
    "sum(l)"
   ]
  },
  {
   "cell_type": "markdown",
   "id": "04ec724a",
   "metadata": {},
   "source": [
    "#### sorted()"
   ]
  },
  {
   "cell_type": "code",
   "execution_count": 24,
   "id": "882313b4",
   "metadata": {
    "scrolled": true
   },
   "outputs": [
    {
     "data": {
      "text/plain": [
       "[12, 13, 23, 34, 45, 56, 67]"
      ]
     },
     "execution_count": 24,
     "metadata": {},
     "output_type": "execute_result"
    }
   ],
   "source": [
    "l=[12,23,34,56,13,45,67]\n",
    "sorted(l)"
   ]
  },
  {
   "cell_type": "code",
   "execution_count": 25,
   "id": "8a73fc26",
   "metadata": {},
   "outputs": [
    {
     "data": {
      "text/plain": [
       "['d', 'e', 'e', 'k', 'l', 'p', 'u']"
      ]
     },
     "execution_count": 25,
     "metadata": {},
     "output_type": "execute_result"
    }
   ],
   "source": [
    "s='kuldeep'\n",
    "sorted(s)"
   ]
  },
  {
   "cell_type": "markdown",
   "id": "7815305c",
   "metadata": {},
   "source": [
    "# all the function of the list"
   ]
  },
  {
   "cell_type": "code",
   "execution_count": 16,
   "id": "f5a14296",
   "metadata": {},
   "outputs": [
    {
     "data": {
      "text/plain": [
       "[12, 23, 34, 56, 13, 45, 67]"
      ]
     },
     "execution_count": 16,
     "metadata": {},
     "output_type": "execute_result"
    }
   ],
   "source": [
    "l"
   ]
  },
  {
   "cell_type": "code",
   "execution_count": 26,
   "id": "1492e22d",
   "metadata": {},
   "outputs": [
    {
     "data": {
      "text/plain": [
       "['__add__',\n",
       " '__class__',\n",
       " '__class_getitem__',\n",
       " '__contains__',\n",
       " '__delattr__',\n",
       " '__delitem__',\n",
       " '__dir__',\n",
       " '__doc__',\n",
       " '__eq__',\n",
       " '__format__',\n",
       " '__ge__',\n",
       " '__getattribute__',\n",
       " '__getitem__',\n",
       " '__gt__',\n",
       " '__hash__',\n",
       " '__iadd__',\n",
       " '__imul__',\n",
       " '__init__',\n",
       " '__init_subclass__',\n",
       " '__iter__',\n",
       " '__le__',\n",
       " '__len__',\n",
       " '__lt__',\n",
       " '__mul__',\n",
       " '__ne__',\n",
       " '__new__',\n",
       " '__reduce__',\n",
       " '__reduce_ex__',\n",
       " '__repr__',\n",
       " '__reversed__',\n",
       " '__rmul__',\n",
       " '__setattr__',\n",
       " '__setitem__',\n",
       " '__sizeof__',\n",
       " '__str__',\n",
       " '__subclasshook__',\n",
       " 'append',\n",
       " 'clear',\n",
       " 'copy',\n",
       " 'count',\n",
       " 'extend',\n",
       " 'index',\n",
       " 'insert',\n",
       " 'pop',\n",
       " 'remove',\n",
       " 'reverse',\n",
       " 'sort']"
      ]
     },
     "execution_count": 26,
     "metadata": {},
     "output_type": "execute_result"
    }
   ],
   "source": [
    "dir(list)"
   ]
  },
  {
   "cell_type": "code",
   "execution_count": 18,
   "id": "c9c3c0f4",
   "metadata": {},
   "outputs": [
    {
     "data": {
      "text/plain": [
       "'kuldeep'"
      ]
     },
     "execution_count": 18,
     "metadata": {},
     "output_type": "execute_result"
    }
   ],
   "source": [
    "s"
   ]
  },
  {
   "cell_type": "markdown",
   "id": "10f735f5",
   "metadata": {},
   "source": [
    "# append(): append is used to add the element in the list at the end of list"
   ]
  },
  {
   "cell_type": "code",
   "execution_count": 43,
   "id": "9f3d8931",
   "metadata": {},
   "outputs": [
    {
     "data": {
      "text/plain": [
       "[14, 23, 12, 16, 23, 100]"
      ]
     },
     "execution_count": 43,
     "metadata": {},
     "output_type": "execute_result"
    }
   ],
   "source": [
    "l=[14,23,12,16,23]\n",
    "l.append(100)\n",
    "l"
   ]
  },
  {
   "cell_type": "code",
   "execution_count": 44,
   "id": "bfcd51fb",
   "metadata": {},
   "outputs": [
    {
     "data": {
      "text/plain": [
       "[14, 23, 12, 16, 23, [100]]"
      ]
     },
     "execution_count": 44,
     "metadata": {},
     "output_type": "execute_result"
    }
   ],
   "source": [
    "l=[14,23,12,16,23]\n",
    "l.append([100])\n",
    "l"
   ]
  },
  {
   "cell_type": "code",
   "execution_count": 45,
   "id": "d68ab920",
   "metadata": {},
   "outputs": [
    {
     "data": {
      "text/plain": [
       "[14, 23, 12, 16, 23, [10, 100, 1000, 'python']]"
      ]
     },
     "execution_count": 45,
     "metadata": {},
     "output_type": "execute_result"
    }
   ],
   "source": [
    "l=[14,23,12,16,23]\n",
    "l.append([10,100,1000,'python'])\n",
    "l"
   ]
  },
  {
   "cell_type": "code",
   "execution_count": 46,
   "id": "d697cdef",
   "metadata": {},
   "outputs": [
    {
     "data": {
      "text/plain": [
       "[14, 23, 12, 16, 23, [10, 100, 1000, 'python'], 'kuldeep']"
      ]
     },
     "execution_count": 46,
     "metadata": {},
     "output_type": "execute_result"
    }
   ],
   "source": [
    "l.append('kuldeep')\n",
    "l"
   ]
  },
  {
   "cell_type": "markdown",
   "id": "2cd004d4",
   "metadata": {},
   "source": [
    "# extend(): it add the multiple elements at the end of the list"
   ]
  },
  {
   "cell_type": "code",
   "execution_count": 47,
   "id": "183bebec",
   "metadata": {},
   "outputs": [
    {
     "data": {
      "text/plain": [
       "[12, 34, 56, 78, 89, 80, 22, 45, 33, 56, 38]"
      ]
     },
     "execution_count": 47,
     "metadata": {},
     "output_type": "execute_result"
    }
   ],
   "source": [
    "l=[12,34,56,78,89,80]\n",
    "l.extend([22,45,33,56,38])\n",
    "l"
   ]
  },
  {
   "cell_type": "code",
   "execution_count": 48,
   "id": "c809c65d",
   "metadata": {},
   "outputs": [
    {
     "data": {
      "text/plain": [
       "[12, 34, 56, 78, 89, 80, 10000]"
      ]
     },
     "execution_count": 48,
     "metadata": {},
     "output_type": "execute_result"
    }
   ],
   "source": [
    "l=[12,34,56,78,89,80]\n",
    "l.extend([10000])\n",
    "l"
   ]
  },
  {
   "cell_type": "code",
   "execution_count": 53,
   "id": "a07b76b4",
   "metadata": {},
   "outputs": [
    {
     "ename": "TypeError",
     "evalue": "'int' object is not iterable",
     "output_type": "error",
     "traceback": [
      "\u001b[1;31m---------------------------------------------------------------------------\u001b[0m",
      "\u001b[1;31mTypeError\u001b[0m                                 Traceback (most recent call last)",
      "\u001b[1;32m~\\AppData\\Local\\Temp\\ipykernel_1136\\1224827340.py\u001b[0m in \u001b[0;36m<module>\u001b[1;34m\u001b[0m\n\u001b[0;32m      1\u001b[0m \u001b[0ml\u001b[0m\u001b[1;33m=\u001b[0m\u001b[1;33m[\u001b[0m\u001b[1;36m12\u001b[0m\u001b[1;33m,\u001b[0m\u001b[1;36m34\u001b[0m\u001b[1;33m,\u001b[0m\u001b[1;36m56\u001b[0m\u001b[1;33m,\u001b[0m\u001b[1;36m78\u001b[0m\u001b[1;33m,\u001b[0m\u001b[1;36m89\u001b[0m\u001b[1;33m,\u001b[0m\u001b[1;36m80\u001b[0m\u001b[1;33m]\u001b[0m\u001b[1;33m\u001b[0m\u001b[1;33m\u001b[0m\u001b[0m\n\u001b[1;32m----> 2\u001b[1;33m \u001b[0ml\u001b[0m\u001b[1;33m.\u001b[0m\u001b[0mextend\u001b[0m\u001b[1;33m(\u001b[0m\u001b[1;36m10000\u001b[0m\u001b[1;33m)\u001b[0m\u001b[1;33m\u001b[0m\u001b[1;33m\u001b[0m\u001b[0m\n\u001b[0m\u001b[0;32m      3\u001b[0m \u001b[0ml\u001b[0m                   \u001b[1;31m# it supports only list\u001b[0m\u001b[1;33m\u001b[0m\u001b[1;33m\u001b[0m\u001b[0m\n",
      "\u001b[1;31mTypeError\u001b[0m: 'int' object is not iterable"
     ]
    }
   ],
   "source": [
    "l=[12,34,56,78,89,80]\n",
    "l.extend(10000)\n",
    "l                   # it supports only list"
   ]
  },
  {
   "cell_type": "markdown",
   "id": "7d729baf",
   "metadata": {},
   "source": [
    "# how to take the list from the user\n",
    "- method 1: using split() funtion"
   ]
  },
  {
   "cell_type": "markdown",
   "id": "8649b69a",
   "metadata": {},
   "source": [
    "# method 1: using split() funtion"
   ]
  },
  {
   "cell_type": "code",
   "execution_count": 19,
   "id": "19f6a717",
   "metadata": {},
   "outputs": [
    {
     "name": "stdout",
     "output_type": "stream",
     "text": [
      "Enter the elements: 12 34 56 67\n"
     ]
    },
    {
     "data": {
      "text/plain": [
       "['12', '34', '56', '67']"
      ]
     },
     "execution_count": 19,
     "metadata": {},
     "output_type": "execute_result"
    }
   ],
   "source": [
    "l=input('Enter the elements: ').split()\n",
    "\n",
    "l  # it returns elements in string format "
   ]
  },
  {
   "cell_type": "code",
   "execution_count": 93,
   "id": "3f7a630f",
   "metadata": {},
   "outputs": [
    {
     "name": "stdout",
     "output_type": "stream",
     "text": [
      "Enter the elements: 34 45 56 31\n"
     ]
    },
    {
     "data": {
      "text/plain": [
       "[34, 45, 56, 31]"
      ]
     },
     "execution_count": 93,
     "metadata": {},
     "output_type": "execute_result"
    }
   ],
   "source": [
    "l=input('Enter the elements: ').split()\n",
    "\n",
    "lis=[]\n",
    "for i in l:\n",
    "    lis.append(int(i))\n",
    "    \n",
    "lis"
   ]
  },
  {
   "cell_type": "markdown",
   "id": "7bf4210d",
   "metadata": {},
   "source": [
    "# second method: using for loop"
   ]
  },
  {
   "cell_type": "code",
   "execution_count": 101,
   "id": "8b8ff5de",
   "metadata": {},
   "outputs": [
    {
     "name": "stdout",
     "output_type": "stream",
     "text": [
      "Enter the number of elements: 5\n",
      "Enter the elements: 10\n",
      "Enter the elements: 20\n",
      "Enter the elements: 30\n",
      "Enter the elements: 4\n",
      "Enter the elements: 50\n"
     ]
    },
    {
     "data": {
      "text/plain": [
       "[10, 20, 30, 4, 50]"
      ]
     },
     "execution_count": 101,
     "metadata": {},
     "output_type": "execute_result"
    }
   ],
   "source": [
    "n_elements=int(input('Enter the number of elements: '))\n",
    "\n",
    "l=[]\n",
    "for i in range(1,n_elements+1):\n",
    "    el=int(input('Enter the elements: '))\n",
    "    l.append(el)\n",
    "    \n",
    "l"
   ]
  },
  {
   "cell_type": "code",
   "execution_count": 104,
   "id": "1622c8d8",
   "metadata": {},
   "outputs": [
    {
     "name": "stdout",
     "output_type": "stream",
     "text": [
      "Enter the name: kuldeep\n",
      "Enter the age: 19\n",
      "Enter the gander: male\n",
      "Enter the subjects: 3\n",
      "Enter the marks: 91\n",
      "Enter the marks: 98\n",
      "Enter the marks: 78\n"
     ]
    },
    {
     "data": {
      "text/plain": [
       "['kuldeep', 19, 'male', [91, 98, 78]]"
      ]
     },
     "execution_count": 104,
     "metadata": {},
     "output_type": "execute_result"
    }
   ],
   "source": [
    "### [name,age,gander,[marks]]\n",
    "\n",
    "student=[]\n",
    "\n",
    "name=input('Enter the name: ')\n",
    "age=int(input('Enter the age: '))\n",
    "gander=input('Enter the gander: ')\n",
    "sub=int(input('Enter the subjects: '))\n",
    "\n",
    "name=student.append(name)\n",
    "name=student.append(age)\n",
    "name=student.append(gander)\n",
    "\n",
    "marks=[]\n",
    "for i in range(1,sub+1):\n",
    "    m=int(input('Enter the marks: '))\n",
    "    marks.append(m)\n",
    "    \n",
    "student.append(marks)\n",
    "student"
   ]
  },
  {
   "cell_type": "code",
   "execution_count": 103,
   "id": "138f967c",
   "metadata": {},
   "outputs": [
    {
     "name": "stdout",
     "output_type": "stream",
     "text": [
      "Entere the number of studen: 2\n",
      "Enter the name: kuldeep\n",
      "Enter the age: 19\n",
      "Enter the gander: male\n",
      "Enter the subjects: 3\n",
      "Enter the marks: 90\n",
      "Enter the marks: 89\n",
      "Enter the marks: 80\n",
      "Enter the name: amit\n",
      "Enter the age: 17\n",
      "Enter the gander: male\n",
      "Enter the subjects: 3\n",
      "Enter the marks: 89\n",
      "Enter the marks: 70\n",
      "Enter the marks: 91\n"
     ]
    },
    {
     "data": {
      "text/plain": [
       "[['kuldeep', 19, 'male', [90, 89, 80]], ['amit', 17, 'male', [89, 70, 91]]]"
      ]
     },
     "execution_count": 103,
     "metadata": {},
     "output_type": "execute_result"
    }
   ],
   "source": [
    "nu_students=int(input('Entere the number of studen: '))\n",
    "\n",
    "main=[]\n",
    "for i in range(1,nu_students+1):\n",
    "    student=[]\n",
    "    name=input('Enter the name: ')\n",
    "    age=int(input('Enter the age: '))\n",
    "    gander=input('Enter the gander: ')\n",
    "    sub=int(input('Enter the subjects: '))\n",
    "    name=student.append(name)\n",
    "    name=student.append(age)\n",
    "    name=student.append(gander)\n",
    "    marks=[]\n",
    "    for i in range(1,sub+1):\n",
    "        m=int(input('Enter the marks: '))\n",
    "        marks.append(m)\n",
    "    student.append(marks)\n",
    "    main.append(student)\n",
    "\n",
    "\n",
    "main"
   ]
  },
  {
   "cell_type": "code",
   "execution_count": 80,
   "id": "7e7e878f",
   "metadata": {
    "scrolled": true
   },
   "outputs": [
    {
     "data": {
      "text/html": [
       "<div>\n",
       "<style scoped>\n",
       "    .dataframe tbody tr th:only-of-type {\n",
       "        vertical-align: middle;\n",
       "    }\n",
       "\n",
       "    .dataframe tbody tr th {\n",
       "        vertical-align: top;\n",
       "    }\n",
       "\n",
       "    .dataframe thead th {\n",
       "        text-align: right;\n",
       "    }\n",
       "</style>\n",
       "<table border=\"1\" class=\"dataframe\">\n",
       "  <thead>\n",
       "    <tr style=\"text-align: right;\">\n",
       "      <th></th>\n",
       "      <th>names</th>\n",
       "      <th>age</th>\n",
       "      <th>gander</th>\n",
       "      <th>marks</th>\n",
       "    </tr>\n",
       "  </thead>\n",
       "  <tbody>\n",
       "    <tr>\n",
       "      <th>0</th>\n",
       "      <td>kuldeep</td>\n",
       "      <td>19</td>\n",
       "      <td>male</td>\n",
       "      <td>[56, 78]</td>\n",
       "    </tr>\n",
       "    <tr>\n",
       "      <th>1</th>\n",
       "      <td>amit</td>\n",
       "      <td>17</td>\n",
       "      <td>male</td>\n",
       "      <td>[90, 89]</td>\n",
       "    </tr>\n",
       "  </tbody>\n",
       "</table>\n",
       "</div>"
      ],
      "text/plain": [
       "     names  age gander     marks\n",
       "0  kuldeep   19   male  [56, 78]\n",
       "1     amit   17   male  [90, 89]"
      ]
     },
     "execution_count": 80,
     "metadata": {},
     "output_type": "execute_result"
    }
   ],
   "source": [
    "import pandas as pd\n",
    "\n",
    "pd.DataFrame(main,columns=['names','age','gander','marks'])"
   ]
  },
  {
   "cell_type": "markdown",
   "id": "38100e63",
   "metadata": {},
   "source": [
    "# insert(): it add the elements in the list at specific position "
   ]
  },
  {
   "cell_type": "code",
   "execution_count": 119,
   "id": "5c19abcf",
   "metadata": {},
   "outputs": [
    {
     "data": {
      "text/plain": [
       "[23, 56, 7, 78, 12, 90]"
      ]
     },
     "execution_count": 119,
     "metadata": {},
     "output_type": "execute_result"
    }
   ],
   "source": [
    "l=[23,56,78,12,90]\n",
    "l.insert(2,7)\n",
    "\n",
    "l        # l.insert(index,object)  index: where do you want to insert, object: what do you want to insert"
   ]
  },
  {
   "cell_type": "code",
   "execution_count": 124,
   "id": "65aa917f",
   "metadata": {},
   "outputs": [
    {
     "name": "stdout",
     "output_type": "stream",
     "text": [
      "where do you want to insert: 9\n",
      "what do you want to insert: kuldeep\n"
     ]
    },
    {
     "data": {
      "text/plain": [
       "[23, 56, 78, 12, 90, 'kuldeep']"
      ]
     },
     "execution_count": 124,
     "metadata": {},
     "output_type": "execute_result"
    }
   ],
   "source": [
    "l=[23,56,78,12,90]\n",
    "\n",
    "ind=int(input('where do you want to insert: '))\n",
    "ob=input('what do you want to insert: ')\n",
    "\n",
    "l.insert(ind,ob)\n",
    "\n",
    "l "
   ]
  },
  {
   "cell_type": "markdown",
   "id": "d2538f66",
   "metadata": {},
   "source": [
    "# how to delete the element in the list \n",
    "- del\n",
    "- pop\n",
    "- remove \n",
    "- clear"
   ]
  },
  {
   "cell_type": "markdown",
   "id": "7423a585",
   "metadata": {},
   "source": [
    "# del"
   ]
  },
  {
   "cell_type": "code",
   "execution_count": 129,
   "id": "13bb92d4",
   "metadata": {},
   "outputs": [
    {
     "data": {
      "text/plain": [
       "[23, 56, 78, 12, 90]"
      ]
     },
     "execution_count": 129,
     "metadata": {},
     "output_type": "execute_result"
    }
   ],
   "source": [
    "l=[23, 56, 7, 78, 12, 90]\n",
    "\n",
    "del l[2]\n",
    "\n",
    "l"
   ]
  },
  {
   "cell_type": "code",
   "execution_count": 130,
   "id": "cd944b75",
   "metadata": {},
   "outputs": [
    {
     "name": "stdout",
     "output_type": "stream",
     "text": [
      "Ente the element: 3\n"
     ]
    },
    {
     "data": {
      "text/plain": [
       "[23, 56, 7, 12, 90]"
      ]
     },
     "execution_count": 130,
     "metadata": {},
     "output_type": "execute_result"
    }
   ],
   "source": [
    "l=[23, 56, 7, 78, 12, 90]\n",
    "\n",
    "ind=int(input('Ente the index: '))\n",
    "\n",
    "del l[e]\n",
    "\n",
    "l"
   ]
  },
  {
   "cell_type": "code",
   "execution_count": 133,
   "id": "70b6fddd",
   "metadata": {},
   "outputs": [
    {
     "name": "stdout",
     "output_type": "stream",
     "text": [
      "Ente the element: 56\n"
     ]
    },
    {
     "data": {
      "text/plain": [
       "[23, 7, 78, 12, 90]"
      ]
     },
     "execution_count": 133,
     "metadata": {},
     "output_type": "execute_result"
    }
   ],
   "source": [
    "l=[23, 56, 7, 78, 12, 90]\n",
    "\n",
    "e=int(input('Ente the element: '))\n",
    "ind=l.index(e)\n",
    "del l[ind]\n",
    "\n",
    "l"
   ]
  },
  {
   "cell_type": "markdown",
   "id": "363d0b5c",
   "metadata": {},
   "source": [
    "# pop(): it deletes the element by taking index of the element and returns deleted element by default it deletes the last element of the list "
   ]
  },
  {
   "cell_type": "code",
   "execution_count": 7,
   "id": "3ec33fd8",
   "metadata": {},
   "outputs": [
    {
     "name": "stdout",
     "output_type": "stream",
     "text": [
      "deleted element:  90\n",
      "[23, 7, 78, 12]\n"
     ]
    }
   ],
   "source": [
    "l=[23,7,78,12,90]\n",
    "de=l.pop()\n",
    "print('deleted element: ',de)\n",
    "print(l)                            # by default it deletes the last element of the list"
   ]
  },
  {
   "cell_type": "code",
   "execution_count": 8,
   "id": "bca59f35",
   "metadata": {},
   "outputs": [
    {
     "name": "stdout",
     "output_type": "stream",
     "text": [
      "deleted element:  7\n",
      "[23, 78, 12, 90]\n"
     ]
    }
   ],
   "source": [
    "l=[23,7,78,12,90]\n",
    "de=l.pop(1)\n",
    "print('deleted element: ',de)\n",
    "print(l)        "
   ]
  },
  {
   "cell_type": "markdown",
   "id": "39fa2768",
   "metadata": {},
   "source": [
    "# remove(): it deletes the element by taking element which elements do you want to delete in the list"
   ]
  },
  {
   "cell_type": "code",
   "execution_count": 11,
   "id": "793816fd",
   "metadata": {},
   "outputs": [
    {
     "data": {
      "text/plain": [
       "[45, 56, 73, 92, 45]"
      ]
     },
     "execution_count": 11,
     "metadata": {},
     "output_type": "execute_result"
    }
   ],
   "source": [
    "l=[45,56,67,73,92,45] \n",
    "l.remove(67)\n",
    "l"
   ]
  },
  {
   "cell_type": "markdown",
   "id": "fbdbaf5e",
   "metadata": {},
   "source": [
    "# clear(): it deletes all the elements of the list not delete whole list"
   ]
  },
  {
   "cell_type": "code",
   "execution_count": 12,
   "id": "d732ee00",
   "metadata": {},
   "outputs": [
    {
     "data": {
      "text/plain": [
       "[]"
      ]
     },
     "execution_count": 12,
     "metadata": {},
     "output_type": "execute_result"
    }
   ],
   "source": [
    "l=[45,56,67,73,92,45]\n",
    "l.clear()\n",
    "l"
   ]
  },
  {
   "cell_type": "markdown",
   "id": "2b61e230",
   "metadata": {},
   "source": [
    "# reverse(): it returns reverse list"
   ]
  },
  {
   "cell_type": "code",
   "execution_count": 3,
   "id": "37ff1367",
   "metadata": {},
   "outputs": [
    {
     "data": {
      "text/plain": [
       "[90, 100, 14, 13, 12]"
      ]
     },
     "execution_count": 3,
     "metadata": {},
     "output_type": "execute_result"
    }
   ],
   "source": [
    "l=[12,13,14,100,90]\n",
    "l[::-1]"
   ]
  },
  {
   "cell_type": "code",
   "execution_count": 5,
   "id": "2dc9257a",
   "metadata": {},
   "outputs": [
    {
     "data": {
      "text/plain": [
       "[90, 100, 14, 13, 12]"
      ]
     },
     "execution_count": 5,
     "metadata": {},
     "output_type": "execute_result"
    }
   ],
   "source": [
    "l=[12,13,14,100,90]\n",
    "l.reverse()\n",
    "l"
   ]
  },
  {
   "cell_type": "markdown",
   "id": "1a76e8ae",
   "metadata": {},
   "source": [
    "# sort(): it arrange list elements ascending or descending "
   ]
  },
  {
   "cell_type": "code",
   "execution_count": 6,
   "id": "3028909d",
   "metadata": {},
   "outputs": [
    {
     "data": {
      "text/plain": [
       "[12, 13, 14, 90, 100]"
      ]
     },
     "execution_count": 6,
     "metadata": {},
     "output_type": "execute_result"
    }
   ],
   "source": [
    "ll=[12,13,14,100,90]\n",
    "l.sort()\n",
    "l"
   ]
  },
  {
   "cell_type": "code",
   "execution_count": 7,
   "id": "434fe183",
   "metadata": {},
   "outputs": [
    {
     "data": {
      "text/plain": [
       "[100, 90, 14, 13, 12]"
      ]
     },
     "execution_count": 7,
     "metadata": {},
     "output_type": "execute_result"
    }
   ],
   "source": [
    "ll=[12,13,14,100,90]\n",
    "l.sort(reverse=True)\n",
    "l"
   ]
  },
  {
   "cell_type": "markdown",
   "id": "17d7ce66",
   "metadata": {},
   "source": [
    "# sorted(): it also arrange list elements ascending or descending but this is not list function it is a python function it works on string as well and other iterable objects"
   ]
  },
  {
   "cell_type": "code",
   "execution_count": 29,
   "id": "5b895c14",
   "metadata": {},
   "outputs": [
    {
     "data": {
      "text/plain": [
       "[12, 13, 14, 90, 100]"
      ]
     },
     "execution_count": 29,
     "metadata": {},
     "output_type": "execute_result"
    }
   ],
   "source": [
    "l=[12,13,14,100,90]\n",
    "sorted(l)"
   ]
  },
  {
   "cell_type": "code",
   "execution_count": 30,
   "id": "766588bc",
   "metadata": {},
   "outputs": [
    {
     "data": {
      "text/plain": [
       "[100, 90, 14, 13, 12]"
      ]
     },
     "execution_count": 30,
     "metadata": {},
     "output_type": "execute_result"
    }
   ],
   "source": [
    "l=[12,13,14,100,90]\n",
    "sorted(l,reverse=True)"
   ]
  },
  {
   "cell_type": "markdown",
   "id": "137397c4",
   "metadata": {},
   "source": [
    "# count(): it tells the occurrence of list elements"
   ]
  },
  {
   "cell_type": "code",
   "execution_count": 18,
   "id": "03571289",
   "metadata": {},
   "outputs": [
    {
     "data": {
      "text/plain": [
       "3"
      ]
     },
     "execution_count": 18,
     "metadata": {},
     "output_type": "execute_result"
    }
   ],
   "source": [
    "l=[12,13,12,14,13,100,90,12,100,10,80]\n",
    "l.count(12)"
   ]
  },
  {
   "cell_type": "markdown",
   "id": "d4d246a4",
   "metadata": {},
   "source": [
    "# find the occurrence of each elements of the list"
   ]
  },
  {
   "cell_type": "code",
   "execution_count": 20,
   "id": "b63f6f6c",
   "metadata": {},
   "outputs": [
    {
     "name": "stdout",
     "output_type": "stream",
     "text": [
      "12 ----- 3\n",
      "13 ----- 2\n",
      "12 ----- 3\n",
      "14 ----- 1\n",
      "13 ----- 2\n",
      "100 ----- 2\n",
      "90 ----- 1\n",
      "12 ----- 3\n",
      "100 ----- 2\n",
      "10 ----- 1\n",
      "80 ----- 1\n"
     ]
    }
   ],
   "source": [
    "l1=[]\n",
    "\n",
    "for i in l:\n",
    "    print(i,'-----',l.count(i))\n",
    "    "
   ]
  },
  {
   "cell_type": "code",
   "execution_count": 21,
   "id": "f9e732e9",
   "metadata": {},
   "outputs": [],
   "source": [
    "from collections import Counter"
   ]
  },
  {
   "cell_type": "code",
   "execution_count": 22,
   "id": "6b197a82",
   "metadata": {},
   "outputs": [
    {
     "data": {
      "text/plain": [
       "Counter({12: 3, 13: 2, 14: 1, 100: 2, 90: 1, 10: 1, 80: 1})"
      ]
     },
     "execution_count": 22,
     "metadata": {},
     "output_type": "execute_result"
    }
   ],
   "source": [
    "Counter(l)"
   ]
  },
  {
   "cell_type": "markdown",
   "id": "174773c1",
   "metadata": {},
   "source": [
    "# copy(): it is used to make copies of list"
   ]
  },
  {
   "cell_type": "code",
   "execution_count": 33,
   "id": "bc0f9b73",
   "metadata": {},
   "outputs": [
    {
     "data": {
      "text/plain": [
       "[12, 13, 14, 100, 90]"
      ]
     },
     "execution_count": 33,
     "metadata": {},
     "output_type": "execute_result"
    }
   ],
   "source": [
    "l=[12,13,14,100,90]\n",
    "\n",
    "l1=l.copy()\n",
    "l1"
   ]
  },
  {
   "cell_type": "code",
   "execution_count": 36,
   "id": "9984cbaa",
   "metadata": {},
   "outputs": [
    {
     "name": "stdout",
     "output_type": "stream",
     "text": [
      "[12, 13, 14, 100, 90]\n",
      "[12, 13, 14, 100, 90]\n",
      "after updation\n",
      "[12, 13, 10000, 100, 90]\n",
      "[12, 13, 14, 100, 90]\n"
     ]
    }
   ],
   "source": [
    "l=[12,13,14,100,90]\n",
    "\n",
    "l1=l.copy()\n",
    "print(l1)          # this is deep copy\n",
    "print(l)\n",
    "print('after updation')\n",
    "l1[2]=10000\n",
    "print(l1)\n",
    "print(l)"
   ]
  },
  {
   "cell_type": "markdown",
   "id": "64aa1596",
   "metadata": {},
   "source": [
    "#### without using copy function"
   ]
  },
  {
   "cell_type": "code",
   "execution_count": 37,
   "id": "dbfd23a2",
   "metadata": {},
   "outputs": [
    {
     "name": "stdout",
     "output_type": "stream",
     "text": [
      "[12, 13, 14, 100, 90]\n",
      "[12, 13, 14, 100, 90]\n",
      "after updation\n",
      "[12, 13, 10000, 100, 90]\n",
      "[12, 13, 10000, 100, 90]\n"
     ]
    }
   ],
   "source": [
    "l=[12,13,14,100,90]\n",
    "\n",
    "l1=l\n",
    "print(l1)          # this is shalow copy \n",
    "print(l)\n",
    "print('after updation')\n",
    "l1[2]=10000\n",
    "print(l1)\n",
    "print(l)"
   ]
  },
  {
   "cell_type": "markdown",
   "id": "6d805116",
   "metadata": {},
   "source": [
    "# list comprehnsion: this is a short way to write code"
   ]
  },
  {
   "cell_type": "markdown",
   "id": "1807575a",
   "metadata": {},
   "source": [
    "#### wap to display the square of number in the list entered by user in the range"
   ]
  },
  {
   "cell_type": "code",
   "execution_count": 3,
   "id": "c288c4bf",
   "metadata": {},
   "outputs": [
    {
     "name": "stdout",
     "output_type": "stream",
     "text": [
      "Enter the start: 1\n",
      "Enter the end: 5\n",
      "[1, 4, 9, 16, 25]\n"
     ]
    }
   ],
   "source": [
    "start=int(input('Enter the start: '))\n",
    "end=int(input('Enter the end: '))         # this is long way of list comprehension\n",
    "\n",
    "l=[]\n",
    "for i in range(start,end+1):\n",
    "    l.append(i**2)\n",
    "    \n",
    "print(l)"
   ]
  },
  {
   "cell_type": "code",
   "execution_count": 4,
   "id": "418669c4",
   "metadata": {},
   "outputs": [
    {
     "name": "stdout",
     "output_type": "stream",
     "text": [
      "Enter the start: 1\n",
      "Enter the end: 5\n"
     ]
    },
    {
     "data": {
      "text/plain": [
       "[1, 4, 9, 16, 25]"
      ]
     },
     "execution_count": 4,
     "metadata": {},
     "output_type": "execute_result"
    }
   ],
   "source": [
    "start=int(input('Enter the start: '))\n",
    "end=int(input('Enter the end: '))\n",
    "\n",
    "[ i**2 for i in range(start,end+1)]"
   ]
  },
  {
   "cell_type": "markdown",
   "id": "2d77d567",
   "metadata": {},
   "source": [
    "# wap to compute the square of even numbers and display odd numbers corresponding to the number range entered by user"
   ]
  },
  {
   "cell_type": "code",
   "execution_count": 8,
   "id": "a55ae00d",
   "metadata": {},
   "outputs": [
    {
     "name": "stdout",
     "output_type": "stream",
     "text": [
      "Enter the start: 1\n",
      "Enter the end: 10\n",
      "['odd', 4, 'odd', 16, 'odd', 36, 'odd', 64, 'odd', 100]\n"
     ]
    }
   ],
   "source": [
    "start=int(input('Enter the start: '))\n",
    "end=int(input('Enter the end: '))\n",
    "\n",
    "l=[]\n",
    "for i in range(start,end+1):\n",
    "    if i%2==0:\n",
    "        l.append(i**2)\n",
    "    else:\n",
    "        l.append('odd')\n",
    "        \n",
    "print(l)"
   ]
  },
  {
   "cell_type": "code",
   "execution_count": 6,
   "id": "b52f31bc",
   "metadata": {},
   "outputs": [
    {
     "name": "stdout",
     "output_type": "stream",
     "text": [
      "Enter the start: 1\n",
      "Enter the end: 10\n"
     ]
    },
    {
     "data": {
      "text/plain": [
       "['odd', 4, 'odd', 16, 'odd', 36, 'odd', 64, 'odd', 100]"
      ]
     },
     "execution_count": 6,
     "metadata": {},
     "output_type": "execute_result"
    }
   ],
   "source": [
    "start=int(input('Enter the start: '))\n",
    "end=int(input('Enter the end: '))\n",
    "\n",
    "[i**2 if i%2==0 else 'odd' for i in range(start,end+1)]"
   ]
  },
  {
   "cell_type": "markdown",
   "id": "a27ca3a0",
   "metadata": {},
   "source": [
    "# wap to display all the fruits those starts with a in the list in the range entered by user"
   ]
  },
  {
   "cell_type": "code",
   "execution_count": 10,
   "id": "8dc15ab1",
   "metadata": {},
   "outputs": [
    {
     "name": "stdout",
     "output_type": "stream",
     "text": [
      "Enter the fruits name: mango apple orange avocado\n",
      "['apple', 'avocado']\n"
     ]
    }
   ],
   "source": [
    "fruits=input('Enter the fruits name: ').split()  # this is a way to take list from the user\n",
    "\n",
    "f=[]\n",
    "for fruit in fruits:\n",
    "    if fruit.startswith('a'):\n",
    "        f.append(fruit)\n",
    "    \n",
    "print(f)"
   ]
  },
  {
   "cell_type": "markdown",
   "id": "8579008c",
   "metadata": {},
   "source": [
    "# or"
   ]
  },
  {
   "cell_type": "code",
   "execution_count": 11,
   "id": "c031448b",
   "metadata": {},
   "outputs": [
    {
     "name": "stdout",
     "output_type": "stream",
     "text": [
      "Enter the fruits name:  mango apple orange avocado\n",
      "['apple', 'avocado']\n"
     ]
    }
   ],
   "source": [
    "fruits=input('Enter the fruits name: ').split()  # this is a way to take list from the user\n",
    "\n",
    "f=[]\n",
    "for fruit in fruits:\n",
    "    if fruit[0]=='a':\n",
    "        f.append(fruit)\n",
    "    \n",
    "print(f)"
   ]
  },
  {
   "cell_type": "markdown",
   "id": "91c0d094",
   "metadata": {},
   "source": [
    "# or "
   ]
  },
  {
   "cell_type": "code",
   "execution_count": 16,
   "id": "e88c30fc",
   "metadata": {},
   "outputs": [
    {
     "name": "stdout",
     "output_type": "stream",
     "text": [
      "Enter the fruits name: mango apple orange avocado\n"
     ]
    },
    {
     "data": {
      "text/plain": [
       "['apple', 'avocado']"
      ]
     },
     "execution_count": 16,
     "metadata": {},
     "output_type": "execute_result"
    }
   ],
   "source": [
    "fruits=input('Enter the fruits name: ').split()\n",
    "\n",
    "[i for i in fruits if i.startswith('a')]   "
   ]
  },
  {
   "cell_type": "markdown",
   "id": "00399f87",
   "metadata": {},
   "source": [
    "# wap to display those name of students which are palindrome in the new list using list comprehension "
   ]
  },
  {
   "cell_type": "code",
   "execution_count": 33,
   "id": "35c80b90",
   "metadata": {},
   "outputs": [
    {
     "name": "stdout",
     "output_type": "stream",
     "text": [
      "Entet the students name: kuldeep nitin  madam arpit amit\n"
     ]
    },
    {
     "data": {
      "text/plain": [
       "['nitin', 'madam']"
      ]
     },
     "execution_count": 33,
     "metadata": {},
     "output_type": "execute_result"
    }
   ],
   "source": [
    "name=input('Entet the students name: ').split()\n",
    "\n",
    "l=[i for i in name if i==i[-1::-1]]\n",
    "l"
   ]
  },
  {
   "cell_type": "code",
   "execution_count": null,
   "id": "74cc5709",
   "metadata": {},
   "outputs": [],
   "source": []
  },
  {
   "cell_type": "markdown",
   "id": "3500a4f5",
   "metadata": {},
   "source": [
    "# wap to display length of smallest fruit length among the all fruits "
   ]
  },
  {
   "cell_type": "code",
   "execution_count": 36,
   "id": "1227ed73",
   "metadata": {},
   "outputs": [
    {
     "name": "stdout",
     "output_type": "stream",
     "text": [
      "Enter the fruits name: mango apple orange avocado chiku pear\n",
      "4\n"
     ]
    }
   ],
   "source": [
    "name=input('Enter the fruits name: ').split()\n",
    "\n",
    "l=[]\n",
    "for i in name:\n",
    "    length=len(i)\n",
    "    l.append(length)\n",
    "\n",
    "print(min(l))"
   ]
  },
  {
   "cell_type": "markdown",
   "id": "97bb48d0",
   "metadata": {},
   "source": [
    "# wap to count the numbers of vowels in each word of the list and count total vowels in the list"
   ]
  },
  {
   "cell_type": "code",
   "execution_count": 41,
   "id": "76ec2d96",
   "metadata": {},
   "outputs": [
    {
     "name": "stdout",
     "output_type": "stream",
     "text": [
      "Enter the word in the list: search a word in list of word word:which is to be searched and l is the list of word\n",
      "the total number of vowels are: 22\n"
     ]
    }
   ],
   "source": [
    "l=input('Enter the word in the list: ').split()\n",
    "\n",
    "\n",
    "count=0\n",
    "for i in l:\n",
    "    for j in i:\n",
    "        if j in 'aeiouAEIOU':\n",
    "            count+=1\n",
    "            \n",
    "print('the total number of vowels are:',count)"
   ]
  },
  {
   "cell_type": "markdown",
   "id": "c953bdfd",
   "metadata": {},
   "source": [
    "# count the vowels in each word"
   ]
  },
  {
   "cell_type": "code",
   "execution_count": 70,
   "id": "81f47c4b",
   "metadata": {},
   "outputs": [
    {
     "name": "stdout",
     "output_type": "stream",
     "text": [
      "Enter the word in the list: mango cherry apple orange\n",
      "total vowels in mango 2\n",
      "total vowels in cherry 1\n",
      "total vowels in apple 2\n",
      "total vowels in orange 3\n"
     ]
    }
   ],
   "source": [
    "l=input('Enter the word in the list: ').split()\n",
    "\n",
    "\n",
    "for i in l:\n",
    "    count=0\n",
    "    for j in i:\n",
    "        if j in 'aeiouAEIOU':\n",
    "            count+=1\n",
    "    print('total vowels in',i,count)\n",
    "    "
   ]
  },
  {
   "cell_type": "markdown",
   "id": "01fcb0f4",
   "metadata": {},
   "source": [
    "l=[12,'leena','ritu',90.5,1345,True]\n",
    "- task1: square root of int datatype\n",
    "- task2: print float if datatype is float\n",
    "- task3: make two copies if datatype is string otherwise skip "
   ]
  },
  {
   "cell_type": "code",
   "execution_count": 81,
   "id": "491901df",
   "metadata": {},
   "outputs": [],
   "source": [
    "import math"
   ]
  },
  {
   "cell_type": "code",
   "execution_count": 82,
   "id": "ae96a17f",
   "metadata": {},
   "outputs": [
    {
     "data": {
      "text/plain": [
       "[3.4641016151377544, 'leenaleena', 'rituritu', 'float', 36.6742416417845, True]"
      ]
     },
     "execution_count": 82,
     "metadata": {},
     "output_type": "execute_result"
    }
   ],
   "source": [
    "l=[12,'leena','ritu',90.5,1345,True]\n",
    "\n",
    "\n",
    "for i in l:\n",
    "    if type(i)==int:\n",
    "        sqt=math.sqrt(i)\n",
    "        l[l.index(i)]=sqt\n",
    "    elif type(i)==float:\n",
    "        l[l.index(i)]='float'\n",
    "    elif type(i)==str:\n",
    "        l[l.index(i)]=i*2\n",
    "        \n",
    "\n",
    "l"
   ]
  },
  {
   "cell_type": "code",
   "execution_count": 105,
   "id": "9ed47350",
   "metadata": {},
   "outputs": [],
   "source": [
    "s='hi how r u hello students hope u r doing good. students like python'\n",
    "\n",
    "## task1: find the most active word and count the total words in the text\n",
    "## task2: find the duplicate words\n",
    "## task3: count the letters of word\n",
    "## task4: count the total letters in the text \n",
    "## task5: make a find function to search a particular word in this text which is to be entered by user."
   ]
  },
  {
   "cell_type": "markdown",
   "id": "4a9f866b",
   "metadata": {},
   "source": [
    "# task1: find the most active word and count the total words in the text"
   ]
  },
  {
   "cell_type": "code",
   "execution_count": 92,
   "id": "8cab81bd",
   "metadata": {},
   "outputs": [],
   "source": [
    "from collections import Counter"
   ]
  },
  {
   "cell_type": "code",
   "execution_count": 91,
   "id": "00f184af",
   "metadata": {},
   "outputs": [
    {
     "name": "stdout",
     "output_type": "stream",
     "text": [
      "['hi', 'how', 'r', 'u', 'hello', 'students', 'hope', 'u', 'r', 'doing', 'good.', 'students', 'like', 'python']\n",
      "\n",
      "total words are:  14\n"
     ]
    }
   ],
   "source": [
    "s='hi how r u hello students hope u r doing good. students like python'\n",
    "\n",
    "word=s.split()\n",
    "print(word,end='\\n\\n')\n",
    "print('total words are: ',len(word))"
   ]
  },
  {
   "cell_type": "code",
   "execution_count": 93,
   "id": "86375d40",
   "metadata": {},
   "outputs": [
    {
     "data": {
      "text/plain": [
       "Counter({'hi': 1,\n",
       "         'how': 1,\n",
       "         'r': 2,\n",
       "         'u': 2,\n",
       "         'hello': 1,\n",
       "         'students': 2,\n",
       "         'hope': 1,\n",
       "         'doing': 1,\n",
       "         'good.': 1,\n",
       "         'like': 1,\n",
       "         'python': 1})"
      ]
     },
     "execution_count": 93,
     "metadata": {},
     "output_type": "execute_result"
    }
   ],
   "source": [
    "Counter(word)"
   ]
  },
  {
   "cell_type": "markdown",
   "id": "8299f111",
   "metadata": {},
   "source": [
    "# task2: find the duplicate words"
   ]
  },
  {
   "cell_type": "code",
   "execution_count": 97,
   "id": "5dcb706f",
   "metadata": {},
   "outputs": [
    {
     "name": "stdout",
     "output_type": "stream",
     "text": [
      "['hi', 'how', 'r', 'u', 'hello', 'students', 'hope', 'doing', 'good.', 'like', 'python']\n"
     ]
    }
   ],
   "source": [
    "unique=[]\n",
    "\n",
    "for i in word:\n",
    "    if i not in unique:\n",
    "        unique.append(i)\n",
    "        \n",
    "    \n",
    "print(unique)"
   ]
  },
  {
   "cell_type": "markdown",
   "id": "7a717b1f",
   "metadata": {},
   "source": [
    "# task3: count the letters of word"
   ]
  },
  {
   "cell_type": "code",
   "execution_count": 100,
   "id": "308abfcc",
   "metadata": {},
   "outputs": [
    {
     "name": "stdout",
     "output_type": "stream",
     "text": [
      "length of hi 2\n",
      "length of how 3\n",
      "length of r 1\n",
      "length of u 1\n",
      "length of hello 5\n",
      "length of students 8\n",
      "length of hope 4\n",
      "length of doing 5\n",
      "length of good. 5\n",
      "length of like 4\n",
      "length of python 6\n"
     ]
    }
   ],
   "source": [
    "for i in unique:\n",
    "    l1=len(i)\n",
    "    print('length of',i, l1)"
   ]
  },
  {
   "cell_type": "markdown",
   "id": "0c5ea995",
   "metadata": {},
   "source": [
    "# task4: count the total letters in the text"
   ]
  },
  {
   "cell_type": "code",
   "execution_count": 102,
   "id": "150d5403",
   "metadata": {},
   "outputs": [
    {
     "data": {
      "text/plain": [
       "'hihowruhellostudentshopedoinggood.likepython'"
      ]
     },
     "execution_count": 102,
     "metadata": {},
     "output_type": "execute_result"
    }
   ],
   "source": [
    "text=''.join(unique)\n",
    "text"
   ]
  },
  {
   "cell_type": "code",
   "execution_count": 104,
   "id": "a296c6f7",
   "metadata": {},
   "outputs": [
    {
     "data": {
      "text/plain": [
       "44"
      ]
     },
     "execution_count": 104,
     "metadata": {},
     "output_type": "execute_result"
    }
   ],
   "source": [
    "len(text)"
   ]
  },
  {
   "cell_type": "markdown",
   "id": "b2967158",
   "metadata": {},
   "source": [
    "# task5: make a find function to search a particular word in this text which is to be entered by user."
   ]
  },
  {
   "cell_type": "code",
   "execution_count": 126,
   "id": "f51b4b97",
   "metadata": {},
   "outputs": [],
   "source": [
    "def find(word,text):\n",
    "    \"\"\"search a word in list of word word:which is to be searched and text is the list of word\"\"\"\n",
    "    if word in text:\n",
    "        print(word,'is found')\n",
    "    else:\n",
    "        print('not found')"
   ]
  },
  {
   "cell_type": "code",
   "execution_count": 122,
   "id": "695cbe6a",
   "metadata": {},
   "outputs": [
    {
     "name": "stdout",
     "output_type": "stream",
     "text": [
      "Enter the word: word\n",
      "word is found\n"
     ]
    }
   ],
   "source": [
    "word=input('Enter the word: ')\n",
    "\n",
    "text='make a find function to search a particular word in this text which is to be entered by user'\n",
    "\n",
    "find(word,text)"
   ]
  },
  {
   "cell_type": "markdown",
   "id": "726660e9",
   "metadata": {},
   "source": [
    "# operators on list"
   ]
  },
  {
   "cell_type": "code",
   "execution_count": 32,
   "id": "e6e1fa17",
   "metadata": {},
   "outputs": [
    {
     "data": {
      "text/plain": [
       "[1, 2, 3, 4, 5, 6, 12, 13, 14, 15, 16]"
      ]
     },
     "execution_count": 32,
     "metadata": {},
     "output_type": "execute_result"
    }
   ],
   "source": [
    "l=[1,2,3,4,5,6]\n",
    "l1=[12,13,14,15,16]\n",
    "\n",
    "l+l1\n"
   ]
  },
  {
   "cell_type": "code",
   "execution_count": 39,
   "id": "e3ee7b4a",
   "metadata": {},
   "outputs": [
    {
     "data": {
      "text/plain": [
       "[1, 2, 3, 4, 5, 6, 1, 2, 3, 4, 5, 6, 1, 2, 3, 4, 5, 6]"
      ]
     },
     "execution_count": 39,
     "metadata": {},
     "output_type": "execute_result"
    }
   ],
   "source": [
    "l=[1,2,3,4,5,6]\n",
    "\n",
    "l*3"
   ]
  },
  {
   "cell_type": "code",
   "execution_count": 49,
   "id": "0bee1f98",
   "metadata": {},
   "outputs": [
    {
     "data": {
      "text/plain": [
       "True"
      ]
     },
     "execution_count": 49,
     "metadata": {},
     "output_type": "execute_result"
    }
   ],
   "source": [
    "l=[1,2,3,[1,2,3],4,5,6]\n",
    "\n",
    "[1,2,3] in l"
   ]
  },
  {
   "cell_type": "code",
   "execution_count": 51,
   "id": "effe006e",
   "metadata": {},
   "outputs": [
    {
     "data": {
      "text/plain": [
       "True"
      ]
     },
     "execution_count": 51,
     "metadata": {},
     "output_type": "execute_result"
    }
   ],
   "source": [
    "l=[1,2,3,[1,2,3],4,5,6]\n",
    "\n",
    "[1,2] not in l"
   ]
  },
  {
   "cell_type": "code",
   "execution_count": 52,
   "id": "2f801059",
   "metadata": {},
   "outputs": [
    {
     "data": {
      "text/plain": [
       "True"
      ]
     },
     "execution_count": 52,
     "metadata": {},
     "output_type": "execute_result"
    }
   ],
   "source": [
    "l=[1,2,3,4,5,6]\n",
    "l1=[12,13,14,15,16,[1,2,3,4,5,6]]\n",
    "\n",
    "l in l1\n"
   ]
  },
  {
   "cell_type": "code",
   "execution_count": 53,
   "id": "9982c9ef",
   "metadata": {},
   "outputs": [
    {
     "data": {
      "text/plain": [
       "False"
      ]
     },
     "execution_count": 53,
     "metadata": {},
     "output_type": "execute_result"
    }
   ],
   "source": [
    "l=[1,2,3,4,5,6]\n",
    "l1=[12,13,14,15,16]\n",
    "\n",
    "l in l1"
   ]
  },
  {
   "cell_type": "code",
   "execution_count": 59,
   "id": "03ccfde1",
   "metadata": {},
   "outputs": [
    {
     "data": {
      "text/plain": [
       "True"
      ]
     },
     "execution_count": 59,
     "metadata": {},
     "output_type": "execute_result"
    }
   ],
   "source": [
    "l=[1,2,3,4,5,6]\n",
    "l1=[12,13,14,15,16]\n",
    "\n",
    "l!=l1"
   ]
  },
  {
   "cell_type": "code",
   "execution_count": 64,
   "id": "5b3c0fc1",
   "metadata": {},
   "outputs": [
    {
     "data": {
      "text/plain": [
       "True"
      ]
     },
     "execution_count": 64,
     "metadata": {},
     "output_type": "execute_result"
    }
   ],
   "source": [
    "l=[1,2,3,4,5,6]\n",
    "l1=[1,2,3,4,5,6]\n",
    "\n",
    "l==l1"
   ]
  },
  {
   "cell_type": "code",
   "execution_count": null,
   "id": "e32a4636",
   "metadata": {},
   "outputs": [],
   "source": []
  }
 ],
 "metadata": {
  "kernelspec": {
   "display_name": "Python 3 (ipykernel)",
   "language": "python",
   "name": "python3"
  },
  "language_info": {
   "codemirror_mode": {
    "name": "ipython",
    "version": 3
   },
   "file_extension": ".py",
   "mimetype": "text/x-python",
   "name": "python",
   "nbconvert_exporter": "python",
   "pygments_lexer": "ipython3",
   "version": "3.9.15"
  }
 },
 "nbformat": 4,
 "nbformat_minor": 5
}
